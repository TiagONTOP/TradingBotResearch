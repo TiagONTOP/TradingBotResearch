{
 "cells": [
  {
   "cell_type": "code",
   "execution_count": 1,
   "id": "14f2a404",
   "metadata": {},
   "outputs": [],
   "source": [
    "import MetaTrader5 as mt5"
   ]
  },
  {
   "cell_type": "code",
   "execution_count": 2,
   "id": "74808259",
   "metadata": {},
   "outputs": [
    {
     "data": {
      "text/plain": [
       "True"
      ]
     },
     "execution_count": 2,
     "metadata": {},
     "output_type": "execute_result"
    }
   ],
   "source": [
    "login_mt5 = 1051651055\n",
    "mdp_mt5 = 'WTZRFSRT6J'\n",
    "server = 'FTMO-Demo'\n",
    "mt5.initialize()\n",
    "mt5.login(login_mt5, mdp_mt5, server)"
   ]
  },
  {
   "cell_type": "code",
   "execution_count": 16,
   "id": "676279b4",
   "metadata": {},
   "outputs": [
    {
     "data": {
      "text/plain": [
       "OrderSendResult(retcode=10009, deal=0, order=82473929, volume=0.1, price=0.0, bid=0.0, ask=0.0, comment='Request executed', request_id=1718948829, retcode_external=0, request=TradeRequest(action=5, magic=0, order=0, symbol='EURUSD', volume=0.1, price=1.07744, stoplimit=0.0, sl=0.0, tp=0.0, deviation=0, type=2, type_filling=0, type_time=0, expiration=0, comment='', position=0, position_by=0))"
      ]
     },
     "execution_count": 16,
     "metadata": {},
     "output_type": "execute_result"
    }
   ],
   "source": [
    "ticker = 'EURUSD'\n",
    "order = {\n",
    "    \n",
    "    \"action\" : mt5.TRADE_ACTION_PENDING,\n",
    "    \"symbol\" : ticker,\n",
    "    \"volume\" : 0.10,\n",
    "    \"type\" : mt5.ORDER_TYPE_BUY_LIMIT,\n",
    "    \"price\" : mt5.symbol_info_tick(ticker).bid\n",
    "}\n",
    "\n",
    "mt5.order_send(order)"
   ]
  },
  {
   "cell_type": "code",
   "execution_count": 3,
   "id": "eb79f32a",
   "metadata": {},
   "outputs": [
    {
     "data": {
      "text/plain": [
       "datetime.timedelta(seconds=14400)"
      ]
     },
     "execution_count": 3,
     "metadata": {},
     "output_type": "execute_result"
    }
   ],
   "source": [
    "from datetime import datetime \n",
    "start = datetime.now()\n",
    "end = datetime.now().replace(hour=start.hour+4)\n",
    "(end - start)"
   ]
  },
  {
   "cell_type": "code",
   "execution_count": 4,
   "id": "4c59d384",
   "metadata": {},
   "outputs": [
    {
     "data": {
      "text/plain": [
       "datetime.datetime(2023, 5, 24, 12, 26, 47, 449012)"
      ]
     },
     "execution_count": 4,
     "metadata": {},
     "output_type": "execute_result"
    }
   ],
   "source": [
    "datetime.utcnow()"
   ]
  },
  {
   "cell_type": "code",
   "execution_count": 32,
   "id": "7e360563",
   "metadata": {},
   "outputs": [
    {
     "data": {
      "text/plain": [
       "60.0"
      ]
     },
     "execution_count": 32,
     "metadata": {},
     "output_type": "execute_result"
    }
   ],
   "source": [
    "from datetime import timedelta\n",
    "timedelta(hours=1).seconds / 60"
   ]
  },
  {
   "cell_type": "code",
   "execution_count": null,
   "id": "61c266f8",
   "metadata": {},
   "outputs": [],
   "source": [
    "datetime"
   ]
  },
  {
   "cell_type": "code",
   "execution_count": 39,
   "id": "802c4e15",
   "metadata": {},
   "outputs": [
    {
     "name": "stdout",
     "output_type": "stream",
     "text": [
      "(TradeOrder(ticket=82530153, time_setup=1684863509, time_setup_msc=1684863509491, time_done=0, time_done_msc=0, time_expiration=0, type=2, type_time=0, type_filling=2, state=1, magic=0, position_id=0, position_by_id=0, reason=0, volume_initial=0.16, volume_current=0.16, price_open=91.7, sl=0.0, tp=0.0, price_current=91.78, price_stoplimit=0.0, symbol='AUDJPY', comment='', external_id=''),)\n",
      "OrderSendResult(retcode=10009, deal=0, order=82530153, volume=0.0, price=0.0, bid=0.0, ask=0.0, comment='Request executed', request_id=1718948878, retcode_external=0, request=TradeRequest(action=8, magic=0, order=82530153, symbol='', volume=0.0, price=0.0, stoplimit=0.0, sl=0.0, tp=0.0, deviation=0, type=0, type_filling=0, type_time=0, expiration=0, comment='', position=0, position_by=0))\n"
     ]
    }
   ],
   "source": [
    "orders = mt5.orders_get()\n",
    "print(orders)\n",
    "    \n",
    "for order in orders:\n",
    "    print(mt5.order_send({\n",
    "        \"action\": mt5.TRADE_ACTION_REMOVE,\n",
    "        \"order\": order.ticket\n",
    "        }))"
   ]
  },
  {
   "cell_type": "code",
   "execution_count": 7,
   "id": "96610b65",
   "metadata": {},
   "outputs": [
    {
     "data": {
      "text/plain": [
       "OrderSendResult(retcode=10009, deal=78632442, order=82773031, volume=0.1, price=1.07862, bid=1.07859, ask=1.07862, comment='Request executed', request_id=243347086, retcode_external=0, request=TradeRequest(action=1, magic=0, order=0, symbol='EURUSD', volume=0.1, price=1.07862, stoplimit=0.0, sl=0.0, tp=0.0, deviation=0, type=0, type_filling=0, type_time=0, expiration=0, comment='', position=0, position_by=0))"
      ]
     },
     "execution_count": 7,
     "metadata": {},
     "output_type": "execute_result"
    }
   ],
   "source": [
    "ticker = 'EURUSD'\n",
    "order = {\n",
    "    \n",
    "    \"action\" : mt5.TRADE_ACTION_DEAL,\n",
    "    \"symbol\" : ticker,\n",
    "    \"volume\" : 0.10,\n",
    "    \"type\" : mt5.ORDER_TYPE_BUY,\n",
    "    \"price\" : mt5.symbol_info_tick(ticker).ask\n",
    "    \n",
    "}\n",
    "\n",
    "mt5.order_send(order)"
   ]
  },
  {
   "cell_type": "code",
   "execution_count": 12,
   "id": "e69cd413",
   "metadata": {},
   "outputs": [
    {
     "data": {
      "text/html": [
       "<div>\n",
       "<style scoped>\n",
       "    .dataframe tbody tr th:only-of-type {\n",
       "        vertical-align: middle;\n",
       "    }\n",
       "\n",
       "    .dataframe tbody tr th {\n",
       "        vertical-align: top;\n",
       "    }\n",
       "\n",
       "    .dataframe thead th {\n",
       "        text-align: right;\n",
       "    }\n",
       "</style>\n",
       "<table border=\"1\" class=\"dataframe\">\n",
       "  <thead>\n",
       "    <tr style=\"text-align: right;\">\n",
       "      <th></th>\n",
       "      <th></th>\n",
       "      <th>open</th>\n",
       "      <th>high</th>\n",
       "      <th>low</th>\n",
       "      <th>close</th>\n",
       "      <th>tick_volume</th>\n",
       "      <th>spread</th>\n",
       "    </tr>\n",
       "    <tr>\n",
       "      <th>symbol</th>\n",
       "      <th>time</th>\n",
       "      <th></th>\n",
       "      <th></th>\n",
       "      <th></th>\n",
       "      <th></th>\n",
       "      <th></th>\n",
       "      <th></th>\n",
       "    </tr>\n",
       "  </thead>\n",
       "  <tbody>\n",
       "    <tr>\n",
       "      <th rowspan=\"11\" valign=\"top\">EURUSD</th>\n",
       "      <th>2023-05-23 21:10:00</th>\n",
       "      <td>1.07769</td>\n",
       "      <td>1.07772</td>\n",
       "      <td>1.07766</td>\n",
       "      <td>1.07766</td>\n",
       "      <td>39</td>\n",
       "      <td>2</td>\n",
       "    </tr>\n",
       "    <tr>\n",
       "      <th>2023-05-23 21:11:00</th>\n",
       "      <td>1.07765</td>\n",
       "      <td>1.07778</td>\n",
       "      <td>1.07765</td>\n",
       "      <td>1.07777</td>\n",
       "      <td>26</td>\n",
       "      <td>2</td>\n",
       "    </tr>\n",
       "    <tr>\n",
       "      <th>2023-05-23 21:12:00</th>\n",
       "      <td>1.07778</td>\n",
       "      <td>1.07791</td>\n",
       "      <td>1.07777</td>\n",
       "      <td>1.07791</td>\n",
       "      <td>25</td>\n",
       "      <td>2</td>\n",
       "    </tr>\n",
       "    <tr>\n",
       "      <th>2023-05-23 21:13:00</th>\n",
       "      <td>1.07791</td>\n",
       "      <td>1.07796</td>\n",
       "      <td>1.07789</td>\n",
       "      <td>1.07796</td>\n",
       "      <td>9</td>\n",
       "      <td>2</td>\n",
       "    </tr>\n",
       "    <tr>\n",
       "      <th>2023-05-23 21:14:00</th>\n",
       "      <td>1.07798</td>\n",
       "      <td>1.07799</td>\n",
       "      <td>1.07795</td>\n",
       "      <td>1.07798</td>\n",
       "      <td>21</td>\n",
       "      <td>2</td>\n",
       "    </tr>\n",
       "    <tr>\n",
       "      <th>...</th>\n",
       "      <td>...</td>\n",
       "      <td>...</td>\n",
       "      <td>...</td>\n",
       "      <td>...</td>\n",
       "      <td>...</td>\n",
       "      <td>...</td>\n",
       "    </tr>\n",
       "    <tr>\n",
       "      <th>2023-05-24 12:42:00</th>\n",
       "      <td>1.07794</td>\n",
       "      <td>1.07798</td>\n",
       "      <td>1.07785</td>\n",
       "      <td>1.07789</td>\n",
       "      <td>37</td>\n",
       "      <td>2</td>\n",
       "    </tr>\n",
       "    <tr>\n",
       "      <th>2023-05-24 12:43:00</th>\n",
       "      <td>1.07784</td>\n",
       "      <td>1.07791</td>\n",
       "      <td>1.07772</td>\n",
       "      <td>1.07773</td>\n",
       "      <td>63</td>\n",
       "      <td>2</td>\n",
       "    </tr>\n",
       "    <tr>\n",
       "      <th>2023-05-24 12:44:00</th>\n",
       "      <td>1.07772</td>\n",
       "      <td>1.07772</td>\n",
       "      <td>1.07755</td>\n",
       "      <td>1.07766</td>\n",
       "      <td>77</td>\n",
       "      <td>2</td>\n",
       "    </tr>\n",
       "    <tr>\n",
       "      <th>2023-05-24 12:45:00</th>\n",
       "      <td>1.07765</td>\n",
       "      <td>1.07773</td>\n",
       "      <td>1.07761</td>\n",
       "      <td>1.07773</td>\n",
       "      <td>60</td>\n",
       "      <td>2</td>\n",
       "    </tr>\n",
       "    <tr>\n",
       "      <th>2023-05-24 12:46:00</th>\n",
       "      <td>1.07772</td>\n",
       "      <td>1.07780</td>\n",
       "      <td>1.07765</td>\n",
       "      <td>1.07767</td>\n",
       "      <td>52</td>\n",
       "      <td>2</td>\n",
       "    </tr>\n",
       "  </tbody>\n",
       "</table>\n",
       "<p>900 rows × 6 columns</p>\n",
       "</div>"
      ],
      "text/plain": [
       "                               open     high      low    close  tick_volume  \\\n",
       "symbol time                                                                   \n",
       "EURUSD 2023-05-23 21:10:00  1.07769  1.07772  1.07766  1.07766           39   \n",
       "       2023-05-23 21:11:00  1.07765  1.07778  1.07765  1.07777           26   \n",
       "       2023-05-23 21:12:00  1.07778  1.07791  1.07777  1.07791           25   \n",
       "       2023-05-23 21:13:00  1.07791  1.07796  1.07789  1.07796            9   \n",
       "       2023-05-23 21:14:00  1.07798  1.07799  1.07795  1.07798           21   \n",
       "...                             ...      ...      ...      ...          ...   \n",
       "       2023-05-24 12:42:00  1.07794  1.07798  1.07785  1.07789           37   \n",
       "       2023-05-24 12:43:00  1.07784  1.07791  1.07772  1.07773           63   \n",
       "       2023-05-24 12:44:00  1.07772  1.07772  1.07755  1.07766           77   \n",
       "       2023-05-24 12:45:00  1.07765  1.07773  1.07761  1.07773           60   \n",
       "       2023-05-24 12:46:00  1.07772  1.07780  1.07765  1.07767           52   \n",
       "\n",
       "                            spread  \n",
       "symbol time                         \n",
       "EURUSD 2023-05-23 21:10:00       2  \n",
       "       2023-05-23 21:11:00       2  \n",
       "       2023-05-23 21:12:00       2  \n",
       "       2023-05-23 21:13:00       2  \n",
       "       2023-05-23 21:14:00       2  \n",
       "...                            ...  \n",
       "       2023-05-24 12:42:00       2  \n",
       "       2023-05-24 12:43:00       2  \n",
       "       2023-05-24 12:44:00       2  \n",
       "       2023-05-24 12:45:00       2  \n",
       "       2023-05-24 12:46:00       2  \n",
       "\n",
       "[900 rows x 6 columns]"
      ]
     },
     "execution_count": 12,
     "metadata": {},
     "output_type": "execute_result"
    }
   ],
   "source": [
    "import pandas as pd\n",
    "import numpy as np\n",
    "datas = []\n",
    "\n",
    "data = pd.DataFrame(mt5.copy_rates_from(ticker, mt5.TIMEFRAME_M1, datetime.now(), 900))\n",
    "data['time'] = pd.to_datetime(data['time'], unit='s')\n",
    "data['symbol'] = np.full(shape=len(data), fill_value=ticker)\n",
    "data = data.drop(['real_volume'], axis=1)\n",
    "datas.append(data)\n",
    "\n",
    "data = pd.concat(datas, axis=0)\n",
    "data = data.set_index(['symbol', 'time'])\n",
    "\n",
    "data"
   ]
  },
  {
   "cell_type": "code",
   "execution_count": 2,
   "id": "81e7a1e3",
   "metadata": {},
   "outputs": [
    {
     "data": {
      "text/plain": [
       "'a'"
      ]
     },
     "execution_count": 2,
     "metadata": {},
     "output_type": "execute_result"
    }
   ],
   "source": [
    "data = data.groupby(level=0, group_keys=False).apply(lambda x: x.close.pct_change())\n",
    "data['returns'] = data.groupby(level=0, group_keys=False).apply(lambda x: np.log(x.close/x.close.shift(1)))"
   ]
  },
  {
   "cell_type": "code",
   "execution_count": null,
   "id": "e0761d45",
   "metadata": {},
   "outputs": [],
   "source": [
    "data.loc[ticker]['returns']"
   ]
  },
  {
   "cell_type": "code",
   "execution_count": 13,
   "id": "ddc2b467",
   "metadata": {},
   "outputs": [
    {
     "data": {
      "text/plain": [
       "DatetimeIndex(['2023-05-23 21:10:00', '2023-05-23 21:11:00',\n",
       "               '2023-05-23 21:12:00', '2023-05-23 21:13:00',\n",
       "               '2023-05-23 21:14:00', '2023-05-23 21:15:00',\n",
       "               '2023-05-23 21:16:00', '2023-05-23 21:17:00',\n",
       "               '2023-05-23 21:18:00', '2023-05-23 21:19:00',\n",
       "               ...\n",
       "               '2023-05-24 12:37:00', '2023-05-24 12:38:00',\n",
       "               '2023-05-24 12:39:00', '2023-05-24 12:40:00',\n",
       "               '2023-05-24 12:41:00', '2023-05-24 12:42:00',\n",
       "               '2023-05-24 12:43:00', '2023-05-24 12:44:00',\n",
       "               '2023-05-24 12:45:00', '2023-05-24 12:46:00'],\n",
       "              dtype='datetime64[ns]', name='time', length=900, freq=None)"
      ]
     },
     "execution_count": 13,
     "metadata": {},
     "output_type": "execute_result"
    }
   ],
   "source": [
    "data.loc['EURUSD'].index"
   ]
  },
  {
   "cell_type": "code",
   "execution_count": 72,
   "id": "1ab60ecf",
   "metadata": {},
   "outputs": [
    {
     "name": "stdout",
     "output_type": "stream",
     "text": [
      "We are closing order\n",
      "OrderSendResult(retcode=10009, deal=78448510, order=82574885, volume=0.1, price=1.07721, bid=1.07721, ask=1.07723, comment='Request executed', request_id=1718949018, retcode_external=0, request=TradeRequest(action=1, magic=0, order=0, symbol='EURUSD', volume=0.1, price=1.07721, stoplimit=0.0, sl=0.0, tp=0.0, deviation=0, type=1, type_filling=0, type_time=0, expiration=0, comment='', position=82574746, position_by=0))\n"
     ]
    }
   ],
   "source": [
    "import math\n",
    "import pandas as pd\n",
    "from datetime import timedelta\n",
    "def sign(x):\n",
    "    return int(math.copysign(1, x))\n",
    "\n",
    "time_limit = 10\n",
    "volumes = {}\n",
    "tickets = {}\n",
    "all_preds = pd.DataFrame([-0.011], index=['EURUSD'], columns=['preds'])\n",
    "positions = mt5.positions_get()\n",
    "for position in positions:\n",
    "    volumes[position.symbol] = position.volume\n",
    "    tickets[position.symbol] = position.ticket\n",
    "pos_time = {\n",
    "    'EURUSD': {\n",
    "        'Time' : timedelta(minutes=19),\n",
    "        'PosType' : 1\n",
    "    }\n",
    "}\n",
    "for ticker in pos_time.keys():\n",
    "    if (pos_time[ticker]['Time'].seconds / 60 > time_limit) and (pos_time[ticker]['PosType'] != sign(all_preds.loc[ticker])):\n",
    "        print('We are closing order')\n",
    "        order = {\n",
    "            \"action\": mt5.TRADE_ACTION_DEAL,\n",
    "            \"symbol\": ticker,\n",
    "            \"volume\": volumes[ticker],\n",
    "            \"type\": mt5.ORDER_TYPE_SELL if pos_time[ticker]['PosType'] == 1 else mt5.ORDER_TYPE_BUY,\n",
    "            \"price\": mt5.symbol_info_tick(ticker).bid if pos_time[ticker]['PosType'] == 1 else mt5.symbol_info_tick(ticker).ask,\n",
    "            \"position\": tickets[ticker]\n",
    "        }\n",
    "\n",
    "        print(mt5.order_send(order))"
   ]
  },
  {
   "cell_type": "code",
   "execution_count": 3,
   "id": "89b0bcfc",
   "metadata": {},
   "outputs": [
    {
     "data": {
      "text/plain": [
       "1383697.261287935"
      ]
     },
     "execution_count": 3,
     "metadata": {},
     "output_type": "execute_result"
    }
   ],
   "source": [
    "from forex_python.converter import CurrencyRates\n",
    "cr = CurrencyRates()\n",
    "cr.convert('USD', 'JPY', 10000)"
   ]
  },
  {
   "cell_type": "code",
   "execution_count": 19,
   "id": "d945c527",
   "metadata": {},
   "outputs": [],
   "source": [
    "CurrencyRates"
   ]
  },
  {
   "cell_type": "code",
   "execution_count": null,
   "id": "6635ed6d",
   "metadata": {},
   "outputs": [],
   "source": []
  }
 ],
 "metadata": {
  "kernelspec": {
   "display_name": "Python 3 (ipykernel)",
   "language": "python",
   "name": "python3"
  },
  "language_info": {
   "codemirror_mode": {
    "name": "ipython",
    "version": 3
   },
   "file_extension": ".py",
   "mimetype": "text/x-python",
   "name": "python",
   "nbconvert_exporter": "python",
   "pygments_lexer": "ipython3",
   "version": "3.9.13"
  }
 },
 "nbformat": 4,
 "nbformat_minor": 5
}
