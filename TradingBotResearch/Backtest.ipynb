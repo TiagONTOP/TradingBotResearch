{
 "cells": [
  {
   "cell_type": "code",
   "execution_count": 1,
   "id": "b7a08691",
   "metadata": {},
   "outputs": [
    {
     "ename": "ModuleNotFoundError",
     "evalue": "No module named 'pandas_datareader'",
     "output_type": "error",
     "traceback": [
      "\u001b[1;31m---------------------------------------------------------------------------\u001b[0m",
      "\u001b[1;31mModuleNotFoundError\u001b[0m                       Traceback (most recent call last)",
      "Cell \u001b[1;32mIn[1], line 9\u001b[0m\n\u001b[0;32m      7\u001b[0m \u001b[38;5;28;01mimport\u001b[39;00m \u001b[38;5;21;01mnumpy\u001b[39;00m \u001b[38;5;28;01mas\u001b[39;00m \u001b[38;5;21;01mnp\u001b[39;00m\n\u001b[0;32m      8\u001b[0m \u001b[38;5;28;01mimport\u001b[39;00m \u001b[38;5;21;01mpandas\u001b[39;00m \u001b[38;5;28;01mas\u001b[39;00m \u001b[38;5;21;01mpd\u001b[39;00m\n\u001b[1;32m----> 9\u001b[0m \u001b[38;5;28;01mimport\u001b[39;00m \u001b[38;5;21;01mpandas_datareader\u001b[39;00m\u001b[38;5;21;01m.\u001b[39;00m\u001b[38;5;21;01mdata\u001b[39;00m \u001b[38;5;28;01mas\u001b[39;00m \u001b[38;5;21;01mweb\u001b[39;00m\n\u001b[0;32m     10\u001b[0m \u001b[38;5;28;01mimport\u001b[39;00m \u001b[38;5;21;01mmatplotlib\u001b[39;00m\u001b[38;5;21;01m.\u001b[39;00m\u001b[38;5;21;01mpyplot\u001b[39;00m \u001b[38;5;28;01mas\u001b[39;00m \u001b[38;5;21;01mplt\u001b[39;00m\n\u001b[0;32m     11\u001b[0m \u001b[38;5;28;01mimport\u001b[39;00m \u001b[38;5;21;01mseaborn\u001b[39;00m \u001b[38;5;28;01mas\u001b[39;00m \u001b[38;5;21;01msns\u001b[39;00m\n",
      "\u001b[1;31mModuleNotFoundError\u001b[0m: No module named 'pandas_datareader'"
     ]
    }
   ],
   "source": [
    "%matplotlib inline\n",
    "\n",
    "from pathlib import Path\n",
    "import csv\n",
    "from time import time\n",
    "import datetime\n",
    "import numpy as np\n",
    "import pandas as pd\n",
    "import pandas_datareader.data as web\n",
    "import matplotlib.pyplot as plt\n",
    "import seaborn as sns\n",
    "import MetaTrader5 as mt\n",
    "import scipy as sp\n",
    "\n",
    "\n",
    "import backtrader as bt\n",
    "from backtrader.feeds import PandasData\n",
    "\n",
    "import pyfolio as pf\n",
    "\n",
    "import MetaTrader5 as mt\n",
    "\n",
    "import warnings\n",
    "warnings.filterwarnings('ignore')\n",
    "\n",
    "mt.initialize()\n",
    "\n",
    "login_mt5 = 1051534030\n",
    "mdp_mt5 = 'FG2SF2M74R'\n",
    "server = 'FTMO-Demo'\n",
    "\n",
    "mt.login(login_mt5, mdp_mt5, server)"
   ]
  },
  {
   "cell_type": "code",
   "execution_count": null,
   "id": "5ff66699",
   "metadata": {},
   "outputs": [],
   "source": [
    "with pd.HDFStore('data.h5') as hdf:\n",
    "    data = hdf['data_rsi_filtre']\n",
    "    prices = hdf['prices_rsi_filtre']\n",
    "    relative_spread_cost = hdf['rsi_relative_spread_cost']\n",
    "    pred = hdf['pred']"
   ]
  },
  {
   "cell_type": "code",
   "execution_count": 7,
   "id": "1509ed94",
   "metadata": {},
   "outputs": [],
   "source": [
    "symbs = data.index.get_level_values(0).unique()\n",
    "list_of_spread = []\n",
    "thrld = 4e-5\n",
    "for symb in symbs:\n",
    "    bid = mt.symbol_info_tick(symb).bid\n",
    "    ask = mt.symbol_info_tick(symb).ask\n",
    "    spread = (ask - bid) / (ask + bid / 2)\n",
    "    list_of_spread.append([symb, spread])\n",
    "\n",
    "list_of_spread = pd.DataFrame(list_of_spread, columns = ['tickers', 'spread'])\n",
    "tickers = list_of_spread[list_of_spread.spread < thrld].tickers.to_list()"
   ]
  },
  {
   "cell_type": "code",
   "execution_count": 3,
   "id": "c277f101",
   "metadata": {},
   "outputs": [],
   "source": [
    "tickers = ['GBPJPY', 'GBPUSD', 'EURGBP', 'EURUSD', 'USDCAD', 'USDJPY']"
   ]
  },
  {
   "cell_type": "code",
   "execution_count": 4,
   "id": "4d140083",
   "metadata": {},
   "outputs": [],
   "source": [
    "data = data.loc[tickers]\n",
    "prices = prices.loc[tickers]\n",
    "relative_spread_cost = relative_spread_cost.loc[tickers]\n",
    "pred = pred.loc[tickers]"
   ]
  },
  {
   "cell_type": "code",
   "execution_count": 5,
   "id": "ec27bdaf",
   "metadata": {},
   "outputs": [],
   "source": [
    "pred = pred.reindex(prices.index).fillna(value=0)"
   ]
  },
  {
   "cell_type": "code",
   "execution_count": 7,
   "id": "ac4c6a00",
   "metadata": {},
   "outputs": [],
   "source": [
    "spread = prices.pop('spread')\n",
    "percentage_spreads = prices.pop('percentage_spreads')\n",
    "prices.columns = ['open', 'high', 'low', 'close', 'volume']"
   ]
  },
  {
   "cell_type": "code",
   "execution_count": 8,
   "id": "29b94c35",
   "metadata": {},
   "outputs": [],
   "source": [
    "data = pd.concat([prices, pred, relative_spread_cost, percentage_spreads], axis=1)"
   ]
  },
  {
   "cell_type": "code",
   "execution_count": 9,
   "id": "1358157e",
   "metadata": {},
   "outputs": [],
   "source": [
    "data = data.drop(['actuals'], axis=1)"
   ]
  },
  {
   "cell_type": "code",
   "execution_count": 10,
   "id": "0acfb053",
   "metadata": {},
   "outputs": [],
   "source": [
    "data = data.dropna()\n",
    "data.columns = ['open', 'high', 'low', 'close', 'volume', 'predicted', 'relative_spread', 'spread']"
   ]
  },
  {
   "cell_type": "code",
   "execution_count": 11,
   "id": "50fe360e",
   "metadata": {},
   "outputs": [],
   "source": [
    "OHLCV = ['open', 'high', 'low', 'close', 'volume']\n",
    "\n",
    "\n",
    "class VariableSpreadCommission(bt.CommInfoBase):\n",
    "    params = (('spread_percentage', None),)  # Remplacez 'None' par la ligne de spread dans vos données si nécessaire\n",
    "\n",
    "    def _getcommission(self, size, price, pseudoexec):\n",
    "        # Obtenir le spread en pourcentage pour la barre temporelle actuelle\n",
    "        spread_percentage = self.p.spread_percentage[0]\n",
    "\n",
    "        # Calculer le spread en points pour le prix donné\n",
    "        spread = price * spread_percentage\n",
    "\n",
    "        # Ajuster le prix d'exécution en fonction du sens de l'ordre (achat ou vente)\n",
    "        if size > 0:  # Achat\n",
    "            price += spread / 2\n",
    "        elif size < 0:  # Vente\n",
    "            price -= spread / 2\n",
    "\n",
    "        # Calculer et retourner la commission basée sur le prix ajusté\n",
    "        return abs(size) * price * self.p.commission\n",
    "\n",
    "\n",
    "class SignalData(PandasData):\n",
    "    \"\"\"\n",
    "    Define pandas DataFrame structure\n",
    "    \"\"\"\n",
    "    cols = OHLCV + ['predicted', 'relative_spread', 'spread']\n",
    "\n",
    "    # create lines\n",
    "    lines = tuple(cols)\n",
    "\n",
    "    # define parameters\n",
    "    params = {c: -1 for c in cols}\n",
    "    params.update({'datetime': None})\n",
    "    params = tuple(params.items())\n",
    "    \n",
    "class MLStrategy(bt.Strategy):\n",
    "    \n",
    "    def __init__(self):\n",
    "        \n",
    "        self.start_time = datetime.time(hour=3, minute=0)\n",
    "        self.end_time = datetime.time(hour=22, minute=0)\n",
    "        self.rsd_critic_value = 0.1\n",
    "        self.position_needed = 1\n",
    "        self.bar_counters = {}\n",
    "        self.pos_size = []\n",
    "        tickers = ['GBPJPY', 'GBPUSD', 'EURGBP', 'EURUSD', 'USDCAD', 'USDJPY']\n",
    "        for ticker in tickers:\n",
    "    \n",
    "            self.bar_counters[ticker] = 0\n",
    "            \n",
    "        self.max_time = 10\n",
    "\n",
    "    def next(self):\n",
    "        \n",
    "        \n",
    "        ordres_ouverts = self.broker.get_orders_open()\n",
    "        for ordre in ordres_ouverts:\n",
    "            self.cancel(ordre)\n",
    "        # 2 - refresh bar_counters\n",
    "        \n",
    "        for data in self.datas:\n",
    "            self.bar_counters[data._name] += 1\n",
    "        positions_to_close = []\n",
    "        \n",
    "        # 3 - get positions to close\n",
    "        for data in self.datas:\n",
    "            pos = self.getposition(data=data)\n",
    "            self.pos_size.append(pos.size)\n",
    "            if pos.size == 0:\n",
    "                continue\n",
    "            \n",
    "            pos_sign = -1 if pos.size < 0 else 1\n",
    "            pos_preds = -1 if data.predicted[0] < 0 else 1\n",
    "            positions_to_close.append([data._name, pos_sign, pos_preds])\n",
    "            \n",
    "        positions_to_close = pd.DataFrame(positions_to_close, columns=['tickers', 'pos_sign', 'pos_preds'])\n",
    "        positions_to_close = positions_to_close[positions_to_close.pos_sign != positions_to_close.pos_preds].tickers.to_list() \n",
    "        \n",
    "        # 4 - close positions only if position time > max_time\n",
    "        for data in self.datas:\n",
    "            if self.bar_counters[data._name] > self.max_time and data._name in positions_to_close:\n",
    "                pos = self.getposition(data=data)\n",
    "                pos_sign = -1 if pos.size < 0 else 1\n",
    "                price_to_execute = data.close[0] if pos_sign == -1 else data.close[0]\n",
    "                self.close(data=data._name, \n",
    "                           exectype=bt.Order.Market)\n",
    "                \n",
    "        # 5 - initialise list of ticker in position and position_size\n",
    "        positions = [d._name for d, pos in self.getpositions().items() if pos]\n",
    "        position_size = 1/self.position_needed\n",
    "        # 6 - Only if the hour of the day is within the previously defined bounds\n",
    "        \n",
    "        if self.start_time <= bt.num2date(self.datas[0].datetime[0]).time() <= self.end_time:\n",
    "            \n",
    "            # 7 - Select tickers with best relative spread\n",
    "            \n",
    "            \n",
    "            # 8 - Select top predictions\n",
    "            \n",
    "            top_quantile = []\n",
    "            for data in self.datas:\n",
    "                top_quantile.append([data._name, data.predicted[0]])\n",
    "            \n",
    "            top_quantile = pd.DataFrame(top_quantile, columns=['symbol', 'predicted'])\n",
    "            top_quantile['predicted'] = top_quantile.predicted.abs()\n",
    "            ticker_selected = (top_quantile.sort_values(by='predicted', ascending=False)\n",
    "                               .iloc[:max(self.position_needed - len(positions), 0)]\n",
    "                               .symbol\n",
    "                               .to_list())\n",
    "            # 9 - Submit orders\n",
    "            \n",
    "            for data in self.datas:\n",
    "                if data._name in positions:\n",
    "                    print(data._name, self.bar_counters[data._name])\n",
    "                if data._name in ticker_selected and data._name not in positions:\n",
    "                    size = self.broker.getvalue() * position_size / data.close[0]\n",
    "                    if data.predicted[0] > 0 and data.relative_spread[0] < self.rsd_critic_value:\n",
    "                        \n",
    "                        self.buy(exectype=bt.Order.Market, \n",
    "                                 data=data._name,\n",
    "                                 size=size)\n",
    "                        self.bar_counters[data._name] = 0\n",
    "                    \n",
    "                    if data.predicted[0] < 0 and data.relative_spread[0] < self.rsd_critic_value:\n",
    "                        \n",
    "                        self.sell(exectype=bt.Order.Market, \n",
    "                                  data=data._name, \n",
    "                                  size=size)\n",
    "                        self.bar_counters[data._name] = 0"
   ]
  },
  {
   "cell_type": "code",
   "execution_count": 12,
   "id": "48a7fb45",
   "metadata": {},
   "outputs": [],
   "source": [
    "class RSIStrategy(bt.Strategy):\n",
    "    \n",
    "    def __init__(self):\n",
    "        \n",
    "        self.start_time = datetime.time(hour=3, minute=0)\n",
    "        self.end_time = datetime.time(hour=22, minute=0)\n",
    "        self.rsd_critic_value = 1\n",
    "        self.position_needed = 10\n",
    "        self.capital = 100000\n",
    "        self.bar_counters = {}\n",
    "        tickers = ['AUDJPY', 'AUDUSD','GBPJPY','GBPUSD',\n",
    "                   'EURAUD','EURGBP','EURCAD','EURJPY',\n",
    "                   'EURCHF','EURUSD','CHFJPY','USDCAD',\n",
    "                   'USDCHF','USDJPY']\n",
    "        for ticker in tickers:\n",
    "    \n",
    "            self.bar_counters[ticker] = 0\n",
    "            \n",
    "        self.max_time = 60\n",
    "\n",
    "    def next(self):\n",
    "        for data in self.datas:\n",
    "            self.bar_counters[data._name] += 1\n",
    "        \n",
    "        for data in self.datas:\n",
    "            pos = self.getposition(data=data)\n",
    "            if self.bar_counters[data._name] > self.max_time and pos != 0:\n",
    "                self.order_target_percent(data=data._name, target=0)\n",
    "        \n",
    "        positions = [d._name for d, pos in self.getpositions().items() if pos]\n",
    "        position_size = 1/self.position_needed\n",
    "        print(positions)\n",
    "        \n",
    "        if self.start_time <= bt.num2date(self.datas[0].datetime[0]).time() <= self.end_time:\n",
    "            \n",
    "            predicted_check = np.array([])\n",
    "            for data in self.datas:\n",
    "                predicted_check = np.append(predicted_check, data.predicted[0])\n",
    "            if not (predicted_check == 0).all():\n",
    "                \n",
    "                top_quantile = []\n",
    "                for data in self.datas:\n",
    "                    top_quantile.append([data._name, data.predicted[0]])\n",
    "\n",
    "                top_quantile = pd.DataFrame(top_quantile, columns=['symbol', 'predicted'])\n",
    "                top_quantile['predicted'] = top_quantile.predicted.abs()\n",
    "                top_quantile = top_quantile[top_quantile.predicted != 0]\n",
    "                ticker_selected = (top_quantile.sort_values(by='predicted', ascending=False)\n",
    "                                   .iloc[:self.position_needed - len(positions)]\n",
    "                                   .symbol\n",
    "                                   .to_list())\n",
    "                for data in self.datas:\n",
    "                    if data._name in ticker_selected and ticker_selected not in positions:\n",
    "\n",
    "                        if data.predicted[0] > 0:\n",
    "                            self.order_target_percent(data=data._name, target=position_size)                         \n",
    "                            self.bar_counters[data._name] = 0\n",
    "\n",
    "                        if data.predicted[0] < 0:\n",
    "                            self.order_target_percent(data=data._name, target=-position_size)\n",
    "                            self.bar_counters[data._name] = 0\n",
    "                            \n",
    "                    else:\n",
    "                        pos = self.getposition(data=data)\n",
    "                        if pos.size == 0:\n",
    "                            continue\n",
    "                        elif (pos.size > 0 and data.predicted[0] > 0) or (pos.size < 0 and data.predicted[0] < 0):\n",
    "                            self.bar_counters[data._name] = 0\n"
   ]
  },
  {
   "cell_type": "code",
   "execution_count": 13,
   "id": "c3a78494",
   "metadata": {},
   "outputs": [],
   "source": [
    "class PortfolioValueAnalyzer(bt.Analyzer):\n",
    "    def __init__(self):\n",
    "        self.portfolio_values = []\n",
    "\n",
    "    def next(self):\n",
    "        self.portfolio_values.append(self.strategy.broker.getvalue())\n",
    "        \n",
    "class SizeValueAnalyzer(bt.Analyzer):\n",
    "    \n",
    "    def __init__(self):\n",
    "        \n",
    "        self.pos_size = {}\n",
    "        \n",
    "    def start(self):\n",
    "        \n",
    "        self.pos_size = {}\n",
    "    \n",
    "    def next(self):\n",
    "        \n",
    "        for data in self.strategy.datas:\n",
    "            pos = self.strategy.getposition(data=data)\n",
    "            ticker = str(data._name)\n",
    "            actual = 0 if self.pos_size.get(ticker) is None else self.pos_size.get(ticker)\n",
    "            if pos.size > actual:\n",
    "                self.pos_size[ticker] = pos.size\n",
    "            "
   ]
  },
  {
   "cell_type": "code",
   "execution_count": 14,
   "id": "0ad468d0",
   "metadata": {},
   "outputs": [],
   "source": [
    "cerebro = bt.Cerebro()\n",
    "cash = 100000\n",
    "cerebro.broker.set_cash(cash)"
   ]
  },
  {
   "cell_type": "code",
   "execution_count": 15,
   "id": "da52e8c7",
   "metadata": {},
   "outputs": [],
   "source": [
    "lower_date_threshold = pd.Timestamp('2023-01-01')\n",
    "higher_date_threshold = pd.Timestamp('2023-05-09')\n",
    "data.index.names = ['symbol', 'date']\n",
    "data_after_date = data[(data.index.get_level_values('date') >= lower_date_threshold) & \n",
    "                       (data.index.get_level_values('date') <= higher_date_threshold)]"
   ]
  },
  {
   "cell_type": "code",
   "execution_count": 16,
   "id": "47937dc8",
   "metadata": {},
   "outputs": [],
   "source": [
    "for ticker in data_after_date.index.get_level_values(0).unique():\n",
    "    df = data_after_date.loc[ticker]\n",
    "    df.index.name = 'datetime'\n",
    "    bt_data = SignalData(dataname=df)\n",
    "    cerebro.adddata(bt_data, name=ticker)\n",
    "    #spread_commission = VariableSpreadCommission(spread_percentage=bt_data.lines.spread)\n",
    "    #cerebro.broker.addcommissioninfo(spread_commission, name=ticker)\n",
    "    cerebro.broker.setcommission(commission=3.5e-05, name=ticker)"
   ]
  },
  {
   "cell_type": "code",
   "execution_count": 18,
   "id": "45b8b2af",
   "metadata": {},
   "outputs": [],
   "source": [
    "portfolio_values = np.array(results[0].analyzers.getbyname('portfolio_value').portfolio_values)"
   ]
  },
  {
   "cell_type": "code",
   "execution_count": null,
   "id": "4ed2a825-f774-4486-9a93-7e5e9306e231",
   "metadata": {},
   "outputs": [],
   "source": [
    "cerebro.addanalyzer(bt.analyzers.PyFolio, _name='pyfolio')\n",
    "cerebro.addanalyzer(PortfolioValueAnalyzer, _name='portfolio_value')\n",
    "cerebro.addanalyzer(SizeValueAnalyzer, _name='SizeValue')#bt.analyzers.PyFolio, _name='pyfolio'\n",
    "cerebro.addstrategy(MLStrategy)\n",
    "results = cerebro.run()\n",
    "ending_value = cerebro.broker.getvalue()\n",
    "\n",
    "print(f'Final Portfolio Value: {ending_value:,.2f}')"
   ]
  },
  {
   "cell_type": "code",
   "execution_count": 19,
   "id": "c0734443",
   "metadata": {},
   "outputs": [],
   "source": [
    "pf_returns = np.diff(portfolio_values) / portfolio_values[:-1]"
   ]
  },
  {
   "cell_type": "code",
   "execution_count": 20,
   "id": "634a9821",
   "metadata": {},
   "outputs": [],
   "source": [
    "pd.DataFrame(portfolio_values, columns=['pf_value'], index=data.index.get_level_values(1).unique()).to_csv('portfolio_values')"
   ]
  },
  {
   "cell_type": "code",
   "execution_count": 21,
   "id": "62417b7c",
   "metadata": {},
   "outputs": [
    {
     "data": {
      "text/plain": [
       "[<matplotlib.lines.Line2D at 0x1f34290e520>]"
      ]
     },
     "execution_count": 21,
     "metadata": {},
     "output_type": "execute_result"
    },
    {
     "data": {
      "image/png": "[encoded data removed]",
      "text/plain": [
       "<Figure size 640x480 with 1 Axes>"
      ]
     },
     "metadata": {},
     "output_type": "display_data"
    }
   ],
   "source": [
    "plt.plot(pf_returns.cumsum())"
   ]
  },
  {
   "cell_type": "code",
   "execution_count": null,
   "id": "327c56ee",
   "metadata": {},
   "outputs": [],
   "source": [
    "pos_size = results[0].analyzers.getbyname('SizeValue').pos_size\n",
    "pos_size"
   ]
  },
  {
   "cell_type": "code",
   "execution_count": null,
   "id": "bb268dca",
   "metadata": {},
   "outputs": [],
   "source": [
    "pyfolio_analyzer = results[0].analyzers.getbyname('pyfolio')\n",
    "returns, positions, transactions, gross_lev = pyfolio_analyzer.get_pf_items()"
   ]
  },
  {
   "cell_type": "code",
   "execution_count": null,
   "id": "8639ac08",
   "metadata": {},
   "outputs": [],
   "source": [
    "pf.create_full_tear_sheet(returns,\n",
    "                          transactions=transactions,\n",
    "                          positions=positions)"
   ]
  }
 ],
 "metadata": {
  "kernelspec": {
   "display_name": "Python 3 (ipykernel)",
   "language": "python",
   "name": "python3"
  },
  "language_info": {
   "codemirror_mode": {
    "name": "ipython",
    "version": 3
   },
   "file_extension": ".py",
   "mimetype": "text/x-python",
   "name": "python",
   "nbconvert_exporter": "python",
   "pygments_lexer": "ipython3",
   "version": "3.9.13"
  }
 },
 "nbformat": 4,
 "nbformat_minor": 5
}
