{
 "cells": [
  {
   "cell_type": "code",
   "execution_count": 4,
   "id": "46b52a9c",
   "metadata": {},
   "outputs": [
    {
     "data": {
      "text/plain": [
       "True"
      ]
     },
     "execution_count": 4,
     "metadata": {},
     "output_type": "execute_result"
    }
   ],
   "source": [
    "from pathlib import Path\n",
    "import csv\n",
    "from time import time\n",
    "import datetime\n",
    "import numpy as np\n",
    "import pandas as pd\n",
    "import pandas_datareader.data as web\n",
    "import matplotlib.pyplot as plt\n",
    "import seaborn as sns\n",
    "import MetaTrader5 as mt\n",
    "import scipy as sp\n",
    "\n",
    "import vectorbt as vbt\n",
    "\n",
    "import pyfolio as pf\n",
    "\n",
    "import MetaTrader5 as mt\n",
    "\n",
    "import warnings\n",
    "warnings.filterwarnings('ignore')\n",
    "\n",
    "mt.initialize()\n",
    "\n",
    "login_mt5 = 1051534030\n",
    "mdp_mt5 = 'FG2SF2M74R'\n",
    "server = 'FTMO-Demo'\n",
    "\n",
    "mt.login(login_mt5, mdp_mt5, server)"
   ]
  },
  {
   "cell_type": "code",
   "execution_count": 5,
   "id": "f961e0f3",
   "metadata": {},
   "outputs": [],
   "source": [
    "with pd.HDFStore('data.h5') as hdf:\n",
    "    data = hdf['data_rsi_filtre']\n",
    "    prices = hdf['prices_rsi_filtre']\n",
    "    relative_spread_cost = hdf['rsi_relative_spread_cost']\n",
    "    pred = hdf['pred']"
   ]
  },
  {
   "cell_type": "code",
   "execution_count": 6,
   "id": "c09b2da7",
   "metadata": {},
   "outputs": [],
   "source": [
    "pred = pred.predicted.unstack(0).reindex(prices.unstack(0).dropna(how='any').index).dropna(how='any')\n",
    "index = pred.index\n",
    "high_prices = prices['high'].unstack(0).dropna(how='any').reindex(index)\n",
    "low_prices = prices['low'].unstack(0).dropna(how='any').reindex(index)\n",
    "close_prices = prices['close'].unstack(0).dropna(how='any').reindex(index)\n",
    "spread = prices['spread'].unstack(0).dropna(how='any').reindex(index)"
   ]
  },
  {
   "cell_type": "code",
   "execution_count": 7,
   "id": "462c9df3",
   "metadata": {},
   "outputs": [],
   "source": [
    "rank_pred = pred.abs().rank(axis=1, ascending=False)"
   ]
  },
  {
   "cell_type": "code",
   "execution_count": 8,
   "id": "b619fae8",
   "metadata": {},
   "outputs": [],
   "source": [
    "rank_thr = 3\n",
    "long_entries = ((pred > 0) & (rank_pred < rank_thr) & ((close_prices - spread) > low_prices.shift(-1)))\n",
    "short_entries = ((pred < 0) & (rank_pred < rank_thr) & ((close_prices + spread) < high_prices.shift(-1)))\n",
    "long_exits = (pred < 0)\n",
    "short_exits = (pred > 0)"
   ]
  },
  {
   "cell_type": "code",
   "execution_count": null,
   "id": "df95f034",
   "metadata": {},
   "outputs": [],
   "source": [
    "for index in long:\n",
    "    close_prices"
   ]
  },
  {
   "cell_type": "code",
   "execution_count": 28,
   "id": "ef5c3b0c",
   "metadata": {},
   "outputs": [],
   "source": [
    "portfolio = vbt.Portfolio.from_signals(\n",
    "    close_prices, \n",
    "    entries=long_entries, \n",
    "    exits=long_exits, \n",
    "    short_entries=short_entries, \n",
    "    short_exits=short_exits)"
   ]
  },
  {
   "cell_type": "code",
   "execution_count": 29,
   "id": "0ce93d15",
   "metadata": {},
   "outputs": [
    {
     "data": {
      "text/plain": [
       "[<matplotlib.lines.Line2D at 0x239c9750eb0>,\n",
       " <matplotlib.lines.Line2D at 0x239c9753a90>,\n",
       " <matplotlib.lines.Line2D at 0x239c9753e50>,\n",
       " <matplotlib.lines.Line2D at 0x239c97556d0>,\n",
       " <matplotlib.lines.Line2D at 0x239c9749370>,\n",
       " <matplotlib.lines.Line2D at 0x239c9749b50>,\n",
       " <matplotlib.lines.Line2D at 0x239c974ceb0>,\n",
       " <matplotlib.lines.Line2D at 0x239c974ccd0>,\n",
       " <matplotlib.lines.Line2D at 0x239c9747dc0>,\n",
       " <matplotlib.lines.Line2D at 0x239c9747b50>,\n",
       " <matplotlib.lines.Line2D at 0x239c97472e0>,\n",
       " <matplotlib.lines.Line2D at 0x239c9753a30>,\n",
       " <matplotlib.lines.Line2D at 0x239c97442b0>,\n",
       " <matplotlib.lines.Line2D at 0x239c9732520>,\n",
       " <matplotlib.lines.Line2D at 0x239c973e130>,\n",
       " <matplotlib.lines.Line2D at 0x239c973ec10>,\n",
       " <matplotlib.lines.Line2D at 0x239c9740070>,\n",
       " <matplotlib.lines.Line2D at 0x239c9740cd0>,\n",
       " <matplotlib.lines.Line2D at 0x239c97268b0>,\n",
       " <matplotlib.lines.Line2D at 0x239c9729220>,\n",
       " <matplotlib.lines.Line2D at 0x239c9729880>,\n",
       " <matplotlib.lines.Line2D at 0x239c972b040>,\n",
       " <matplotlib.lines.Line2D at 0x239c972b7f0>,\n",
       " <matplotlib.lines.Line2D at 0x239c972dc10>,\n",
       " <matplotlib.lines.Line2D at 0x239c972d700>,\n",
       " <matplotlib.lines.Line2D at 0x239c972deb0>,\n",
       " <matplotlib.lines.Line2D at 0x239c972f670>,\n",
       " <matplotlib.lines.Line2D at 0x239c97358e0>]"
      ]
     },
     "execution_count": 29,
     "metadata": {},
     "output_type": "execute_result"
    },
    {
     "data": {
      "image/png": "[encoded data removed]",
      "text/plain": [
       "<Figure size 640x480 with 1 Axes>"
      ]
     },
     "metadata": {},
     "output_type": "display_data"
    }
   ],
   "source": [
    "plt.plot(returns.cumsum())"
   ]
  },
  {
   "cell_type": "code",
   "execution_count": 22,
   "id": "49cf07ee",
   "metadata": {},
   "outputs": [
    {
     "ename": "ValueError",
     "evalue": "The truth value of a Series is ambiguous. Use a.empty, a.bool(), a.item(), a.any() or a.all().",
     "output_type": "error",
     "traceback": [
      "\u001b[1;31m---------------------------------------------------------------------------\u001b[0m",
      "\u001b[1;31mValueError\u001b[0m                                Traceback (most recent call last)",
      "Cell \u001b[1;32mIn[22], line 2\u001b[0m\n\u001b[0;32m      1\u001b[0m returns \u001b[38;5;241m=\u001b[39m portfolio\u001b[38;5;241m.\u001b[39mreturns()\n\u001b[1;32m----> 2\u001b[0m \u001b[43mpf\u001b[49m\u001b[38;5;241;43m.\u001b[39;49m\u001b[43mcreate_simple_tear_sheet\u001b[49m\u001b[43m(\u001b[49m\u001b[43mreturns\u001b[49m\u001b[43m)\u001b[49m\n",
      "File \u001b[1;32m~\\anaconda3\\lib\\site-packages\\pyfolio\\plotting.py:51\u001b[0m, in \u001b[0;36mcustomize.<locals>.call_w_context\u001b[1;34m(*args, **kwargs)\u001b[0m\n\u001b[0;32m     49\u001b[0m \u001b[38;5;28;01mif\u001b[39;00m set_context:\n\u001b[0;32m     50\u001b[0m     \u001b[38;5;28;01mwith\u001b[39;00m plotting_context(), axes_style():\n\u001b[1;32m---> 51\u001b[0m         \u001b[38;5;28;01mreturn\u001b[39;00m func(\u001b[38;5;241m*\u001b[39margs, \u001b[38;5;241m*\u001b[39m\u001b[38;5;241m*\u001b[39mkwargs)\n\u001b[0;32m     52\u001b[0m \u001b[38;5;28;01melse\u001b[39;00m:\n\u001b[0;32m     53\u001b[0m     \u001b[38;5;28;01mreturn\u001b[39;00m func(\u001b[38;5;241m*\u001b[39margs, \u001b[38;5;241m*\u001b[39m\u001b[38;5;241m*\u001b[39mkwargs)\n",
      "File \u001b[1;32m~\\anaconda3\\lib\\site-packages\\pyfolio\\tears.py:371\u001b[0m, in \u001b[0;36mcreate_simple_tear_sheet\u001b[1;34m(returns, positions, transactions, benchmark_rets, slippage, estimate_intraday, live_start_date, turnover_denom, header_rows)\u001b[0m\n\u001b[0;32m    368\u001b[0m \u001b[38;5;28;01mif\u001b[39;00m live_start_date \u001b[38;5;129;01mis\u001b[39;00m \u001b[38;5;129;01mnot\u001b[39;00m \u001b[38;5;28;01mNone\u001b[39;00m:\n\u001b[0;32m    369\u001b[0m     live_start_date \u001b[38;5;241m=\u001b[39m ep\u001b[38;5;241m.\u001b[39mutils\u001b[38;5;241m.\u001b[39mget_utc_timestamp(live_start_date)\n\u001b[1;32m--> 371\u001b[0m \u001b[43mplotting\u001b[49m\u001b[38;5;241;43m.\u001b[39;49m\u001b[43mshow_perf_stats\u001b[49m\u001b[43m(\u001b[49m\n\u001b[0;32m    372\u001b[0m \u001b[43m    \u001b[49m\u001b[43mreturns\u001b[49m\u001b[43m,\u001b[49m\n\u001b[0;32m    373\u001b[0m \u001b[43m    \u001b[49m\u001b[43mbenchmark_rets\u001b[49m\u001b[43m,\u001b[49m\n\u001b[0;32m    374\u001b[0m \u001b[43m    \u001b[49m\u001b[43mpositions\u001b[49m\u001b[38;5;241;43m=\u001b[39;49m\u001b[43mpositions\u001b[49m\u001b[43m,\u001b[49m\n\u001b[0;32m    375\u001b[0m \u001b[43m    \u001b[49m\u001b[43mtransactions\u001b[49m\u001b[38;5;241;43m=\u001b[39;49m\u001b[43mtransactions\u001b[49m\u001b[43m,\u001b[49m\n\u001b[0;32m    376\u001b[0m \u001b[43m    \u001b[49m\u001b[43mturnover_denom\u001b[49m\u001b[38;5;241;43m=\u001b[39;49m\u001b[43mturnover_denom\u001b[49m\u001b[43m,\u001b[49m\n\u001b[0;32m    377\u001b[0m \u001b[43m    \u001b[49m\u001b[43mlive_start_date\u001b[49m\u001b[38;5;241;43m=\u001b[39;49m\u001b[43mlive_start_date\u001b[49m\u001b[43m,\u001b[49m\n\u001b[0;32m    378\u001b[0m \u001b[43m    \u001b[49m\u001b[43mheader_rows\u001b[49m\u001b[38;5;241;43m=\u001b[39;49m\u001b[43mheader_rows\u001b[49m\u001b[43m,\u001b[49m\n\u001b[0;32m    379\u001b[0m \u001b[43m\u001b[49m\u001b[43m)\u001b[49m\n\u001b[0;32m    381\u001b[0m fig \u001b[38;5;241m=\u001b[39m plt\u001b[38;5;241m.\u001b[39mfigure(figsize\u001b[38;5;241m=\u001b[39m(\u001b[38;5;241m14\u001b[39m, vertical_sections \u001b[38;5;241m*\u001b[39m \u001b[38;5;241m6\u001b[39m))\n\u001b[0;32m    382\u001b[0m gs \u001b[38;5;241m=\u001b[39m gridspec\u001b[38;5;241m.\u001b[39mGridSpec(vertical_sections, \u001b[38;5;241m3\u001b[39m, wspace\u001b[38;5;241m=\u001b[39m\u001b[38;5;241m0.5\u001b[39m, hspace\u001b[38;5;241m=\u001b[39m\u001b[38;5;241m0.5\u001b[39m)\n",
      "File \u001b[1;32m~\\anaconda3\\lib\\site-packages\\pyfolio\\plotting.py:595\u001b[0m, in \u001b[0;36mshow_perf_stats\u001b[1;34m(returns, factor_returns, positions, transactions, turnover_denom, live_start_date, bootstrap, header_rows)\u001b[0m\n\u001b[0;32m    592\u001b[0m \u001b[38;5;28;01melse\u001b[39;00m:\n\u001b[0;32m    593\u001b[0m     perf_func \u001b[38;5;241m=\u001b[39m timeseries\u001b[38;5;241m.\u001b[39mperf_stats\n\u001b[1;32m--> 595\u001b[0m perf_stats_all \u001b[38;5;241m=\u001b[39m \u001b[43mperf_func\u001b[49m\u001b[43m(\u001b[49m\n\u001b[0;32m    596\u001b[0m \u001b[43m    \u001b[49m\u001b[43mreturns\u001b[49m\u001b[43m,\u001b[49m\n\u001b[0;32m    597\u001b[0m \u001b[43m    \u001b[49m\u001b[43mfactor_returns\u001b[49m\u001b[38;5;241;43m=\u001b[39;49m\u001b[43mfactor_returns\u001b[49m\u001b[43m,\u001b[49m\n\u001b[0;32m    598\u001b[0m \u001b[43m    \u001b[49m\u001b[43mpositions\u001b[49m\u001b[38;5;241;43m=\u001b[39;49m\u001b[43mpositions\u001b[49m\u001b[43m,\u001b[49m\n\u001b[0;32m    599\u001b[0m \u001b[43m    \u001b[49m\u001b[43mtransactions\u001b[49m\u001b[38;5;241;43m=\u001b[39;49m\u001b[43mtransactions\u001b[49m\u001b[43m,\u001b[49m\n\u001b[0;32m    600\u001b[0m \u001b[43m    \u001b[49m\u001b[43mturnover_denom\u001b[49m\u001b[38;5;241;43m=\u001b[39;49m\u001b[43mturnover_denom\u001b[49m\u001b[43m,\u001b[49m\n\u001b[0;32m    601\u001b[0m \u001b[43m\u001b[49m\u001b[43m)\u001b[49m\n\u001b[0;32m    603\u001b[0m date_rows \u001b[38;5;241m=\u001b[39m OrderedDict()\n\u001b[0;32m    604\u001b[0m \u001b[38;5;28;01mif\u001b[39;00m \u001b[38;5;28mlen\u001b[39m(returns\u001b[38;5;241m.\u001b[39mindex) \u001b[38;5;241m>\u001b[39m \u001b[38;5;241m0\u001b[39m:\n",
      "File \u001b[1;32m~\\anaconda3\\lib\\site-packages\\pyfolio\\timeseries.py:730\u001b[0m, in \u001b[0;36mperf_stats\u001b[1;34m(returns, factor_returns, positions, transactions, turnover_denom)\u001b[0m\n\u001b[0;32m    728\u001b[0m stats \u001b[38;5;241m=\u001b[39m pd\u001b[38;5;241m.\u001b[39mSeries(dtype\u001b[38;5;241m=\u001b[39m\u001b[38;5;124m\"\u001b[39m\u001b[38;5;124mfloat64\u001b[39m\u001b[38;5;124m\"\u001b[39m)\n\u001b[0;32m    729\u001b[0m \u001b[38;5;28;01mfor\u001b[39;00m stat_func \u001b[38;5;129;01min\u001b[39;00m SIMPLE_STAT_FUNCS:\n\u001b[1;32m--> 730\u001b[0m     stats[STAT_FUNC_NAMES[stat_func\u001b[38;5;241m.\u001b[39m\u001b[38;5;18m__name__\u001b[39m]] \u001b[38;5;241m=\u001b[39m \u001b[43mstat_func\u001b[49m\u001b[43m(\u001b[49m\u001b[43mreturns\u001b[49m\u001b[43m)\u001b[49m\n\u001b[0;32m    732\u001b[0m \u001b[38;5;28;01mif\u001b[39;00m \u001b[38;5;129;01mnot\u001b[39;00m (positions \u001b[38;5;129;01mis\u001b[39;00m \u001b[38;5;28;01mNone\u001b[39;00m \u001b[38;5;129;01mor\u001b[39;00m positions\u001b[38;5;241m.\u001b[39mempty):\n\u001b[0;32m    733\u001b[0m     stats[\u001b[38;5;124m\"\u001b[39m\u001b[38;5;124mGross leverage\u001b[39m\u001b[38;5;124m\"\u001b[39m] \u001b[38;5;241m=\u001b[39m gross_lev(positions)\u001b[38;5;241m.\u001b[39mmean()\n",
      "File \u001b[1;32m~\\anaconda3\\lib\\site-packages\\empyrical\\stats.py:524\u001b[0m, in \u001b[0;36mcalmar_ratio\u001b[1;34m(returns, period, annualization)\u001b[0m\n\u001b[0;32m    489\u001b[0m \u001b[38;5;124;03m\"\"\"\u001b[39;00m\n\u001b[0;32m    490\u001b[0m \u001b[38;5;124;03mDetermines the Calmar ratio, or drawdown ratio, of a strategy.\u001b[39;00m\n\u001b[0;32m    491\u001b[0m \n\u001b[1;32m   (...)\u001b[0m\n\u001b[0;32m    520\u001b[0m \u001b[38;5;124;03mSee https://en.wikipedia.org/wiki/Calmar_ratio for more details.\u001b[39;00m\n\u001b[0;32m    521\u001b[0m \u001b[38;5;124;03m\"\"\"\u001b[39;00m\n\u001b[0;32m    523\u001b[0m max_dd \u001b[38;5;241m=\u001b[39m max_drawdown(returns\u001b[38;5;241m=\u001b[39mreturns)\n\u001b[1;32m--> 524\u001b[0m \u001b[38;5;28;01mif\u001b[39;00m \u001b[43mmax_dd\u001b[49m\u001b[43m \u001b[49m\u001b[38;5;241;43m<\u001b[39;49m\u001b[43m \u001b[49m\u001b[38;5;241;43m0\u001b[39;49m:\n\u001b[0;32m    525\u001b[0m     temp \u001b[38;5;241m=\u001b[39m annual_return(\n\u001b[0;32m    526\u001b[0m         returns\u001b[38;5;241m=\u001b[39mreturns, period\u001b[38;5;241m=\u001b[39mperiod, annualization\u001b[38;5;241m=\u001b[39mannualization\n\u001b[0;32m    527\u001b[0m     ) \u001b[38;5;241m/\u001b[39m \u001b[38;5;28mabs\u001b[39m(max_dd)\n\u001b[0;32m    528\u001b[0m \u001b[38;5;28;01melse\u001b[39;00m:\n",
      "File \u001b[1;32m~\\anaconda3\\lib\\site-packages\\pandas\\core\\generic.py:1527\u001b[0m, in \u001b[0;36mNDFrame.__nonzero__\u001b[1;34m(self)\u001b[0m\n\u001b[0;32m   1525\u001b[0m \u001b[38;5;129m@final\u001b[39m\n\u001b[0;32m   1526\u001b[0m \u001b[38;5;28;01mdef\u001b[39;00m \u001b[38;5;21m__nonzero__\u001b[39m(\u001b[38;5;28mself\u001b[39m) \u001b[38;5;241m-\u001b[39m\u001b[38;5;241m>\u001b[39m NoReturn:\n\u001b[1;32m-> 1527\u001b[0m     \u001b[38;5;28;01mraise\u001b[39;00m \u001b[38;5;167;01mValueError\u001b[39;00m(\n\u001b[0;32m   1528\u001b[0m         \u001b[38;5;124mf\u001b[39m\u001b[38;5;124m\"\u001b[39m\u001b[38;5;124mThe truth value of a \u001b[39m\u001b[38;5;132;01m{\u001b[39;00m\u001b[38;5;28mtype\u001b[39m(\u001b[38;5;28mself\u001b[39m)\u001b[38;5;241m.\u001b[39m\u001b[38;5;18m__name__\u001b[39m\u001b[38;5;132;01m}\u001b[39;00m\u001b[38;5;124m is ambiguous. \u001b[39m\u001b[38;5;124m\"\u001b[39m\n\u001b[0;32m   1529\u001b[0m         \u001b[38;5;124m\"\u001b[39m\u001b[38;5;124mUse a.empty, a.bool(), a.item(), a.any() or a.all().\u001b[39m\u001b[38;5;124m\"\u001b[39m\n\u001b[0;32m   1530\u001b[0m     )\n",
      "\u001b[1;31mValueError\u001b[0m: The truth value of a Series is ambiguous. Use a.empty, a.bool(), a.item(), a.any() or a.all()."
     ]
    }
   ],
   "source": [
    "returns = portfolio.returns()\n",
    "pf.create_simple_tear_sheet(returns)"
   ]
  },
  {
   "cell_type": "code",
   "execution_count": 3,
   "id": "e811af2c",
   "metadata": {},
   "outputs": [],
   "source": [
    "vbt.Portfolio.from_signals?"
   ]
  },
  {
   "cell_type": "code",
   "execution_count": null,
   "id": "52ee31f9",
   "metadata": {},
   "outputs": [],
   "source": []
  }
 ],
 "metadata": {
  "kernelspec": {
   "display_name": "Python 3 (ipykernel)",
   "language": "python",
   "name": "python3"
  },
  "language_info": {
   "codemirror_mode": {
    "name": "ipython",
    "version": 3
   },
   "file_extension": ".py",
   "mimetype": "text/x-python",
   "name": "python",
   "nbconvert_exporter": "python",
   "pygments_lexer": "ipython3",
   "version": "3.9.13"
  }
 },
 "nbformat": 4,
 "nbformat_minor": 5
}
